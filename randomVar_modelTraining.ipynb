{
 "cells": [
  {
   "cell_type": "markdown",
   "id": "524b5652",
   "metadata": {},
   "source": [
    "## Project Overview\n",
    "\n",
    "In this experiment, we investigate how randomly generated variables, when convolved with a moving‐average filter to introduce autocorrelation, can nonetheless be predicted remarkably well by a regression model. The main objectives are:\n",
    "\n",
    "1. **Generate six random signals** (x1–x5 as features and y as the target) of length 1000, each with a controllable level of autocorrelation.\n",
    "2. **Train an XGBoost regressor** to predict y from x1–x5.\n",
    "3. **Observe how the strength of autocorrelation** (controlled by the “correlation window” in a moving average) affects model performance.\n",
    "4. **Demonstrate the danger of spurious correlation**: even though all inputs are intrinsically random, the model’s predictive accuracy increases dramatically when autocorrelation is higher.\n",
    "5. **Raise awareness** that hidden autocorrelation in real‐world features can lead to deceptively high performance.\n",
    "\n",
    "---\n",
    "\n",
    "## Methodology\n",
    "\n",
    "1. **Signal Generation**  \n",
    "   - For each signal, generate pure Gaussian noise:  \n",
    "     ```python\n",
    "     noise = np.random.normal(0, 1, length)\n",
    "     ```  \n",
    "   - Create a moving‐average window of size _w_:  \n",
    "     ```python\n",
    "     window = np.ones(w) / w\n",
    "     ```  \n",
    "   - Convolve the noise with this window (using `mode='same'`) to produce a signal with autocorrelation:  \n",
    "     ```python\n",
    "     signal = np.convolve(noise, window, mode='same')\n",
    "     ```  \n",
    "   - Repeat this process six times (five features and one target) for each choice of _w_.\n",
    "\n",
    "2. **Varying Autocorrelation Strength**  \n",
    "   - The parameter `correlation_window = w` determines how “smooth” (autocorrelated) each signal is.  \n",
    "   - Lower _w_ (e.g., _w_ = 10) creates mild autocorrelation; higher _w_ (e.g., _w_ = 50) produces strong autocorrelation.\n",
    "\n",
    "3. **Train/Test Split**  \n",
    "   - Stack the six signals into a single DataFrame of shape (1,000 samples × 6 columns).  \n",
    "   - Perform a random 75/25 train/test split.  \n",
    "   - Features: columns `x1, x2, x3, x4, x5`  \n",
    "   - Target: column `y`\n",
    "\n",
    "4. **Modeling with XGBoost**  \n",
    "   - Initialize an `XGBRegressor` with four hyperparameters.  \n",
    "   - Fit on the training set.  \n",
    "   - Predict on the test set and compute these metrics:  \n",
    "     - **MSE** (Mean Squared Error)  \n",
    "     - **RMSE** (Root Mean Squared Error)  \n",
    "     - **MAE** (Mean Absolute Error)  \n",
    "     - **$R^2$** (Coefficient of Determination)\n",
    "\n",
    "5. **Comparison Across Windows**  \n",
    "   - Repeat steps 1–4 for different window sizes (e.g., 1 and 50) to quantify how model performance changes as autocorrelation increases.\n",
    "\n",
    "---\n",
    "\n",
    "## Results\n",
    "\n",
    "Below is a summary table showing how the model’s performance on the test set changes when the correlation window is increased from 1 to 50:\n",
    "\n",
    "| Correlation Window |   MSE   |  RMSE   |  MAE   |   R²    |\n",
    "|--------------------|---------|---------|--------|---------|\n",
    "| **1**              | 1.2761  | 1.1296  | 0.8667 | -0.218  |\n",
    "| **50**             | 0.0075  | 0.0864  | 0.0629 | 0.6544  |\n",
    "\n",
    "- **Window = 1 (mild autocorrelation)**  \n",
    "  - MSE ≈ 1.2761\n",
    "  - RMSE ≈ 1.1296 \n",
    "  - MAE ≈ 0.8667 \n",
    "  - $R^2$ ≈ -0.218 (negative $R^2$ indicates performance worse than predicting the mean)\n",
    "\n",
    "- **Window = 50 (strong autocorrelation)**  \n",
    "  - MSE ≈ 0.0075\n",
    "  - RMSE ≈ 0.0864\n",
    "  - MAE ≈ 0.0629\n",
    "  - $R^2$ ≈ 0.6544 (about 70% of variance explained)\n",
    "\n",
    "---\n",
    "\n",
    "## Interpretation of Metrics\n",
    "\n",
    "- **MSE (Mean Squared Error)**:  \n",
    "  - Measures the average of the squared differences between predictions and true values. Lower is better; perfect model → 0.  \n",
    "  - When autocorrelation is low (w = 1), MSE is relatively large (1.2761). When autocorrelation is high (w = 50), MSE is much smaller (0.0075).\n",
    "\n",
    "- **RMSE (Root Mean Squared Error)**:  \n",
    "  - Square root of MSE, expressed in the same units as y. Lower is better.  \n",
    "  - w = 1 → 1.1296  \n",
    "  - w = 50 → 0.0864\n",
    "\n",
    "- **MAE (Mean Absolute Error)**:  \n",
    "  - Average absolute deviation between predictions and true values. More robust to outliers. Lower is better.  \n",
    "  - w = 1 → 0.8667  \n",
    "  - w = 50 → 0.0629\n",
    "\n",
    "- **$R^2$ (Coefficient of Determination)**:  \n",
    "  - Fraction of variance in y explained by the model.  \n",
    "  - w = 1 → -0.218 (model is worse than always predicting the mean)  \n",
    "  - w = 50 → 0.6544 (model explains ~70% of variance)\n",
    "\n",
    "---\n",
    "\n",
    "## Key Takeaways\n",
    "\n",
    "1. **Spurious Predictability**  \n",
    "   - Even though all features and the target began as independent random noise, applying a moving average filter introduces hidden autocorrelation.  \n",
    "   - XGBoost learns this autocorrelation structure, resulting in surprisingly high predictive accuracy when autocorrelation is strong.\n",
    "\n",
    "2. **Real‑World Danger**  \n",
    "   - In practice, features may have unintended autocorrelation (e.g., time‑series data with trend or seasonality).  \n",
    "   - Training a model without checking for autocorrelation can produce deceptively good results that do not generalize.\n",
    "\n",
    "3. **Recommendation**  \n",
    "   - **Always check for autocorrelation** (and other hidden structures) in your features before model training.  \n",
    "   - If features share autocorrelation with the target, remove or model that structure explicitly to avoid overoptimistic performance.\n",
    "\n",
    "---\n",
    "\n",
    "## Conclusion\n",
    "\n",
    "- We generated random signals and introduced autocorrelation using a moving average.  \n",
    "- We observed that, as the correlation window increased, XGBoost performance improved dramatically, even though no true causal relationship existed.  \n",
    "- This exercise highlights the importance of diagnosing autocorrelation (and other hidden dependencies) in real datasets to ensure models are genuinely learning meaningful patterns.  "
   ]
  },
  {
   "cell_type": "code",
   "execution_count": 2,
   "id": "6f7df0f4",
   "metadata": {},
   "outputs": [],
   "source": [
    "import numpy as np\n",
    "import pandas as pd\n",
    "import matplotlib.pyplot as plt\n",
    "from statsmodels.tsa.stattools import acf\n",
    "from sklearn.model_selection import train_test_split, GridSearchCV\n",
    "import xgboost as xgb\n",
    "from sklearn.metrics import mean_squared_error, mean_absolute_error, r2_score"
   ]
  },
  {
   "cell_type": "code",
   "execution_count": 3,
   "id": "28749ae9",
   "metadata": {},
   "outputs": [
    {
     "data": {
      "image/png": "[encoded data removed]",
      "text/plain": [
       "<Figure size 720x288 with 1 Axes>"
      ]
     },
     "metadata": {
      "needs_background": "light"
     },
     "output_type": "display_data"
    }
   ],
   "source": [
    "def generate_signal(length=1000, correlation_window=10):\n",
    "    \"\"\"\n",
    "    Generates a signal with medium autocorrelation.\n",
    "\n",
    "    Parameters:\n",
    "        length (int): Length of the signal.\n",
    "        correlation_window (int): Size of the window for the moving average to control correlation strength.\n",
    "\n",
    "    Returns:\n",
    "        np.ndarray: Signal with medium autocorrelation.\n",
    "    \"\"\"\n",
    "    # Generate random noise\n",
    "    noise = np.random.normal(0, 1, length)\n",
    "   \n",
    "    # Create a moving average filter\n",
    "    window = np.ones(correlation_window) / correlation_window\n",
    "   \n",
    "    # Apply the moving average filter to introduce correlation\n",
    "    signal = np.convolve(noise, window, mode='same')\n",
    "   \n",
    "    return signal\n",
    "\n",
    "# Generate the signal\n",
    "signal = generate_signal(length=1000, correlation_window=10000)\n",
    "noise = np.random.normal(0, 1, 1000)\n",
    "\n",
    "# Plot the signal\n",
    "plt.figure(figsize=(10, 4))\n",
    "# plt.plot(np.random.normal(0, 1, 1000))\n",
    "plt.plot(signal, label=\"Signal\")\n",
    "plt.title(\"Signal with Medium Autocorrelation\")\n",
    "plt.xlabel(\"Sample Index\")\n",
    "plt.ylabel(\"Amplitude\")\n",
    "plt.legend()\n",
    "plt.grid()\n",
    "plt.show()"
   ]
  },
  {
   "cell_type": "code",
   "execution_count": 4,
   "id": "21039635",
   "metadata": {},
   "outputs": [
    {
     "data": {
      "image/png": "[encoded data removed]",
      "text/plain": [
       "<Figure size 720x288 with 1 Axes>"
      ]
     },
     "metadata": {
      "needs_background": "light"
     },
     "output_type": "display_data"
    },
    {
     "data": {
      "text/plain": [
       "array([1.        , 0.99791085, 0.99610878, 0.99426513, 0.9923766 ,\n",
       "       0.99046709, 0.98856303, 0.98676532, 0.98491369, 0.98290969])"
      ]
     },
     "execution_count": 4,
     "metadata": {},
     "output_type": "execute_result"
    }
   ],
   "source": [
    "# Calculate the ACF of the signal\n",
    "lags = 50  # Number of lags to compute\n",
    "autocorr_values = acf(signal, nlags=lags, fft=True)\n",
    "\n",
    "# Plot the ACF\n",
    "plt.figure(figsize=(10, 4))\n",
    "plt.bar(range(lags + 1), autocorr_values, width=0.5, color='blue', alpha=0.7, label=\"ACF\")\n",
    "plt.title(\"Autocorrelation Function (ACF)\")\n",
    "plt.xlabel(\"Lag\")\n",
    "plt.ylabel(\"Autocorrelation\")\n",
    "plt.grid()\n",
    "plt.legend()\n",
    "plt.show()\n",
    "\n",
    "# Display the ACF values for the first few lags\n",
    "autocorr_values[:10]  # Show ACF values for lags 0 through 9"
   ]
  },
  {
   "cell_type": "markdown",
   "id": "6170866a",
   "metadata": {},
   "source": [
    "# Data Creation"
   ]
  },
  {
   "cell_type": "code",
   "execution_count": 5,
   "id": "861211f7",
   "metadata": {},
   "outputs": [
    {
     "data": {
      "text/html": [
       "<div>\n",
       "<style scoped>\n",
       "    .dataframe tbody tr th:only-of-type {\n",
       "        vertical-align: middle;\n",
       "    }\n",
       "\n",
       "    .dataframe tbody tr th {\n",
       "        vertical-align: top;\n",
       "    }\n",
       "\n",
       "    .dataframe thead th {\n",
       "        text-align: right;\n",
       "    }\n",
       "</style>\n",
       "<table border=\"1\" class=\"dataframe\">\n",
       "  <thead>\n",
       "    <tr style=\"text-align: right;\">\n",
       "      <th></th>\n",
       "      <th>index</th>\n",
       "      <th>x1</th>\n",
       "      <th>x2</th>\n",
       "      <th>x3</th>\n",
       "      <th>x4</th>\n",
       "      <th>x5</th>\n",
       "      <th>y</th>\n",
       "    </tr>\n",
       "  </thead>\n",
       "  <tbody>\n",
       "    <tr>\n",
       "      <th>0</th>\n",
       "      <td>0</td>\n",
       "      <td>0.224031</td>\n",
       "      <td>0.243654</td>\n",
       "      <td>-0.140973</td>\n",
       "      <td>-0.126137</td>\n",
       "      <td>-0.218378</td>\n",
       "      <td>-0.144191</td>\n",
       "    </tr>\n",
       "    <tr>\n",
       "      <th>1</th>\n",
       "      <td>1</td>\n",
       "      <td>0.200860</td>\n",
       "      <td>0.309523</td>\n",
       "      <td>-0.221351</td>\n",
       "      <td>-0.130819</td>\n",
       "      <td>-0.217247</td>\n",
       "      <td>-0.064275</td>\n",
       "    </tr>\n",
       "    <tr>\n",
       "      <th>2</th>\n",
       "      <td>2</td>\n",
       "      <td>0.177573</td>\n",
       "      <td>0.319403</td>\n",
       "      <td>-0.259488</td>\n",
       "      <td>-0.064529</td>\n",
       "      <td>-0.287525</td>\n",
       "      <td>-0.027597</td>\n",
       "    </tr>\n",
       "    <tr>\n",
       "      <th>3</th>\n",
       "      <td>3</td>\n",
       "      <td>0.189671</td>\n",
       "      <td>0.423166</td>\n",
       "      <td>-0.297945</td>\n",
       "      <td>-0.128887</td>\n",
       "      <td>-0.336774</td>\n",
       "      <td>-0.027158</td>\n",
       "    </tr>\n",
       "    <tr>\n",
       "      <th>4</th>\n",
       "      <td>4</td>\n",
       "      <td>0.094007</td>\n",
       "      <td>0.388707</td>\n",
       "      <td>-0.344940</td>\n",
       "      <td>-0.198743</td>\n",
       "      <td>-0.326840</td>\n",
       "      <td>-0.039042</td>\n",
       "    </tr>\n",
       "  </tbody>\n",
       "</table>\n",
       "</div>"
      ],
      "text/plain": [
       "   index        x1        x2        x3        x4        x5         y\n",
       "0      0  0.224031  0.243654 -0.140973 -0.126137 -0.218378 -0.144191\n",
       "1      1  0.200860  0.309523 -0.221351 -0.130819 -0.217247 -0.064275\n",
       "2      2  0.177573  0.319403 -0.259488 -0.064529 -0.287525 -0.027597\n",
       "3      3  0.189671  0.423166 -0.297945 -0.128887 -0.336774 -0.027158\n",
       "4      4  0.094007  0.388707 -0.344940 -0.198743 -0.326840 -0.039042"
      ]
     },
     "execution_count": 5,
     "metadata": {},
     "output_type": "execute_result"
    }
   ],
   "source": [
    "# Set a fixed seed for reproducibility\n",
    "np.random.seed(42)\n",
    "\n",
    "# Number of variables and samples\n",
    "num_var = 6\n",
    "num_samples = 1000\n",
    "\n",
    "# Generate 6 variables with the length of 1000 with medium autocorrelation\n",
    "variables = [generate_signal(num_samples, 20) for _ in range(num_var)]\n",
    "var = generate_signal\n",
    "\n",
    "# Create a dataframe where each variable is a column\n",
    "df = pd.DataFrame(np.column_stack(variables), columns=[f'x{i}' for i in range(1,6)] + ['y'])\n",
    "\n",
    "# Add an 'index' column at the front, where the values are the index of the data\n",
    "df.insert(0, 'index', df.index)\n",
    "\n",
    "df.head()"
   ]
  },
  {
   "cell_type": "code",
   "execution_count": 6,
   "id": "294180b8",
   "metadata": {},
   "outputs": [],
   "source": [
    "# help(xgb.XGBRegressor)"
   ]
  },
  {
   "cell_type": "code",
   "execution_count": 7,
   "id": "e2ecc4dd",
   "metadata": {},
   "outputs": [],
   "source": [
    "np.random.seed(42)\n",
    "\n",
    "# Data and Target\n",
    "data = df.drop(['y'], axis=1) # x1,...,x5\n",
    "target = df['y']\n",
    "# Split into train and test sets\n",
    "X_train, X_test, y_train, y_test = train_test_split(data, target, test_size=.25)\n"
   ]
  },
  {
   "cell_type": "markdown",
   "id": "0e77d542",
   "metadata": {},
   "source": [
    "# Model Training"
   ]
  },
  {
   "cell_type": "code",
   "execution_count": 8,
   "id": "c5eeb828",
   "metadata": {},
   "outputs": [
    {
     "name": "stdout",
     "output_type": "stream",
     "text": [
      "The best hyperparameters are  {'learning_rate': 0.015, 'max_depth': 7, 'n_estimators': 700}\n"
     ]
    }
   ],
   "source": [
    "regressor = xgb.XGBRegressor(eval_metric='rmsle')\n",
    "\n",
    "# Search for the optimal hyperparamers\n",
    "param_grid = {'max_depth': [4,5,6,7],\n",
    "              'n_estimators': [100,500,600,700],\n",
    "              'learning_rate': [0.01,0.015,0.3]}\n",
    "\n",
    "# Try every combination o fthe above values\n",
    "search = GridSearchCV(regressor, param_grid, cv=5).fit(X_train, y_train)\n",
    "\n",
    "print('The best hyperparameters are ', search.best_params_)"
   ]
  },
  {
   "cell_type": "code",
   "execution_count": 9,
   "id": "76fa49ac",
   "metadata": {},
   "outputs": [
    {
     "data": {
      "text/plain": [
       "XGBRegressor(base_score=None, booster=None, callbacks=None,\n",
       "             colsample_bylevel=None, colsample_bynode=None,\n",
       "             colsample_bytree=None, device=None, early_stopping_rounds=None,\n",
       "             enable_categorical=False, eval_metric='rmsle', feature_types=None,\n",
       "             gamma=None, grow_policy=None, importance_type=None,\n",
       "             interaction_constraints=None, learning_rate=0.015, max_bin=None,\n",
       "             max_cat_threshold=None, max_cat_to_onehot=None,\n",
       "             max_delta_step=None, max_depth=7, max_leaves=None,\n",
       "             min_child_weight=None, missing=nan, monotone_constraints=None,\n",
       "             multi_strategy=None, n_estimators=700, n_jobs=None,\n",
       "             num_parallel_tree=None, random_state=None, ...)"
      ]
     },
     "execution_count": 9,
     "metadata": {},
     "output_type": "execute_result"
    }
   ],
   "source": [
    "# Create model instance\n",
    "regressor=xgb.XGBRegressor(learning_rate = search.best_params_[\"learning_rate\"],\n",
    "                           n_estimators  = search.best_params_[\"n_estimators\"],\n",
    "                           max_depth     = search.best_params_[\"max_depth\"],\n",
    "                           eval_metric='rmsle')\n",
    "\n",
    "regressor.fit(X_train, y_train)"
   ]
  },
  {
   "cell_type": "code",
   "execution_count": 10,
   "id": "146c7523",
   "metadata": {},
   "outputs": [
    {
     "data": {
      "image/png": "[encoded data removed]",
      "text/plain": [
       "<Figure size 432x288 with 1 Axes>"
      ]
     },
     "metadata": {
      "needs_background": "light"
     },
     "output_type": "display_data"
    }
   ],
   "source": [
    "# Use the model to predict\n",
    "predict = regressor.predict(X_test)\n",
    "\n",
    "# Scatter plot of actual vs. predicted\n",
    "plt.plot(y_test, y_test, color='red')\n",
    "plt.scatter(predict, y_test)\n",
    "plt.xlabel('Predicted y', fontsize=14)\n",
    "plt.ylabel('Actual y', fontsize=14)\n",
    "plt.title('Actual vs. Predicted', fontsize=16)\n",
    "plt.show()"
   ]
  },
  {
   "cell_type": "code",
   "execution_count": 11,
   "id": "234a588e",
   "metadata": {},
   "outputs": [
    {
     "name": "stdout",
     "output_type": "stream",
     "text": [
      "Test MSE : 0.0076\n",
      "Test RMSE: 0.0872\n",
      "Test MAE : 0.0672\n",
      "Test R²  : 0.8270\n"
     ]
    }
   ],
   "source": [
    "# Mean Squared Error\n",
    "mse = mean_squared_error(y_test, predict)\n",
    "\n",
    "# Root Mean Squared Error\n",
    "rmse = np.sqrt(mse)\n",
    "\n",
    "# Mean Absolute Error\n",
    "mae = mean_absolute_error(y_test, predict)\n",
    "\n",
    "# R-squared\n",
    "r2 = r2_score(y_test, predict)\n",
    "\n",
    "print(f\"Test MSE : {mse:.4f}\")\n",
    "print(f\"Test RMSE: {rmse:.4f}\")\n",
    "print(f\"Test MAE : {mae:.4f}\")\n",
    "print(f\"Test R²  : {r2:.4f}\")"
   ]
  },
  {
   "cell_type": "markdown",
   "id": "19265f06",
   "metadata": {},
   "source": [
    "# Different Windows"
   ]
  },
  {
   "cell_type": "code",
   "execution_count": 18,
   "id": "29a86564",
   "metadata": {},
   "outputs": [],
   "source": [
    "def evaluate_for_windows(windows, num_samples=1000, test_size=.25):\n",
    "    \"\"\"\n",
    "    Fro each correlation window in 'windows', generate data, train an XGBRegressor,\n",
    "    and compute regression metrics.\n",
    "    \n",
    "    Parameters:\n",
    "        windows (list of int): List of correlation window sizes to evaluate.\n",
    "        num_samples (int): Number of samples per variable (default: 1000).\n",
    "        test_size (float): Proportion of data to reserve for testing (default: 0.25).\n",
    "    \n",
    "    Returns:\n",
    "        pd.DataFrame: A DataFrame summarizing MSE, RMSE, MAE, and R² for each window.\n",
    "    \"\"\"\n",
    "    result = []\n",
    "    \n",
    "    for window in windows:\n",
    "        # Generate six signals (x1-x5 as features, y as target)\n",
    "        signals = [generate_signal(length=num_samples, correlation_window=window) for _ in range(6)]\n",
    "        df = pd.DataFrame(\n",
    "            np.column_stack(signals),\n",
    "            columns=[f'x{i}' for i in range(1,6)] + ['y']\n",
    "        )\n",
    "        \n",
    "        # Split into train and test\n",
    "        train_df, test_df = train_test_split(df, test_size=test_size, random_state=42, shuffle=True)\n",
    "        X_train, y_train = train_df[['x1', 'x2', 'x3', 'x4', 'x5']], train_df['y']\n",
    "        X_test, y_test = test_df[['x1', 'x2', 'x3', 'x4', 'x5']], test_df['y']\n",
    "        \n",
    "        # train XGBRegressor\n",
    "        model = xgb.XGBRegressor(learning_rate = search.best_params_[\"learning_rate\"],\n",
    "                           n_estimators  = search.best_params_[\"n_estimators\"],\n",
    "                           max_depth     = search.best_params_[\"max_depth\"],\n",
    "                           eval_metric='rmsle')\n",
    "\n",
    "        model.fit(X_train, y_train)\n",
    "        \n",
    "        # Predict and compute metrics\n",
    "        y_pred = model.predict(X_test)\n",
    "        mse = mean_squared_error(y_test, y_pred)\n",
    "        rmse = np.sqrt(mse)\n",
    "        mae = mean_absolute_error(y_test, y_pred)\n",
    "        r2 = r2_score(y_test, y_pred)\n",
    "        \n",
    "        result.append({\n",
    "            'correlation_window': window,\n",
    "            'MSE': mse,\n",
    "            'RMSE': rmse,\n",
    "            'MAE': mae,\n",
    "            'R2': r2\n",
    "        })\n",
    "        \n",
    "    return pd.DataFrame(result)"
   ]
  },
  {
   "cell_type": "code",
   "execution_count": 20,
   "id": "f861314f",
   "metadata": {},
   "outputs": [
    {
     "data": {
      "text/html": [
       "<div>\n",
       "<style scoped>\n",
       "    .dataframe tbody tr th:only-of-type {\n",
       "        vertical-align: middle;\n",
       "    }\n",
       "\n",
       "    .dataframe tbody tr th {\n",
       "        vertical-align: top;\n",
       "    }\n",
       "\n",
       "    .dataframe thead th {\n",
       "        text-align: right;\n",
       "    }\n",
       "</style>\n",
       "<table border=\"1\" class=\"dataframe\">\n",
       "  <thead>\n",
       "    <tr style=\"text-align: right;\">\n",
       "      <th></th>\n",
       "      <th>correlation_window</th>\n",
       "      <th>MSE</th>\n",
       "      <th>RMSE</th>\n",
       "      <th>MAE</th>\n",
       "      <th>R2</th>\n",
       "    </tr>\n",
       "  </thead>\n",
       "  <tbody>\n",
       "    <tr>\n",
       "      <th>0</th>\n",
       "      <td>1</td>\n",
       "      <td>1.276101</td>\n",
       "      <td>1.129647</td>\n",
       "      <td>0.866700</td>\n",
       "      <td>-0.217970</td>\n",
       "    </tr>\n",
       "    <tr>\n",
       "      <th>1</th>\n",
       "      <td>5</td>\n",
       "      <td>0.254012</td>\n",
       "      <td>0.503996</td>\n",
       "      <td>0.402208</td>\n",
       "      <td>-0.178168</td>\n",
       "    </tr>\n",
       "    <tr>\n",
       "      <th>2</th>\n",
       "      <td>10</td>\n",
       "      <td>0.090073</td>\n",
       "      <td>0.300122</td>\n",
       "      <td>0.232771</td>\n",
       "      <td>0.165817</td>\n",
       "    </tr>\n",
       "    <tr>\n",
       "      <th>3</th>\n",
       "      <td>50</td>\n",
       "      <td>0.007462</td>\n",
       "      <td>0.086382</td>\n",
       "      <td>0.062911</td>\n",
       "      <td>0.654379</td>\n",
       "    </tr>\n",
       "    <tr>\n",
       "      <th>4</th>\n",
       "      <td>100</td>\n",
       "      <td>0.001107</td>\n",
       "      <td>0.033279</td>\n",
       "      <td>0.021387</td>\n",
       "      <td>0.941000</td>\n",
       "    </tr>\n",
       "  </tbody>\n",
       "</table>\n",
       "</div>"
      ],
      "text/plain": [
       "   correlation_window       MSE      RMSE       MAE        R2\n",
       "0                   1  1.276101  1.129647  0.866700 -0.217970\n",
       "1                   5  0.254012  0.503996  0.402208 -0.178168\n",
       "2                  10  0.090073  0.300122  0.232771  0.165817\n",
       "3                  50  0.007462  0.086382  0.062911  0.654379\n",
       "4                 100  0.001107  0.033279  0.021387  0.941000"
      ]
     },
     "execution_count": 20,
     "metadata": {},
     "output_type": "execute_result"
    }
   ],
   "source": [
    "windows_to_test = [1,5,10,50,100]\n",
    "metrics_df = evaluate_for_windows(windows_to_test)\n",
    "\n",
    "metrics_df"
   ]
  }
 ],
 "metadata": {
  "kernelspec": {
   "display_name": "base",
   "language": "python",
   "name": "python3"
  },
  "language_info": {
   "codemirror_mode": {
    "name": "ipython",
    "version": 3
   },
   "file_extension": ".py",
   "mimetype": "text/x-python",
   "name": "python",
   "nbconvert_exporter": "python",
   "pygments_lexer": "ipython3",
   "version": "3.9.13"
  }
 },
 "nbformat": 4,
 "nbformat_minor": 5
}
